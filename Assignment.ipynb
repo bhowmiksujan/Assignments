{
  "nbformat": 4,
  "nbformat_minor": 0,
  "metadata": {
    "colab": {
      "provenance": [],
      "authorship_tag": "ABX9TyNhrJ3M0K21JyE+XWhtmVYK",
      "include_colab_link": true
    },
    "kernelspec": {
      "name": "python3",
      "display_name": "Python 3"
    },
    "language_info": {
      "name": "python"
    }
  },
  "cells": [
    {
      "cell_type": "markdown",
      "metadata": {
        "id": "view-in-github",
        "colab_type": "text"
      },
      "source": [
        "<a href=\"https://colab.research.google.com/github/bhowmiksujan/Assignments/blob/main/Assignment.ipynb\" target=\"_parent\"><img src=\"https://colab.research.google.com/assets/colab-badge.svg\" alt=\"Open In Colab\"/></a>"
      ]
    },
    {
      "cell_type": "markdown",
      "source": [
        "1.Write a Python program to count the number of characters (character frequency) in a string.\n",
        "Sample String : google.com Expected Result : {'o': 3, 'g': 2, '.': 1, 'e': 1, 'l': 1, 'm': 1, 'c': 1}"
      ],
      "metadata": {
        "id": "RRCzmPXE-EvM"
      }
    },
    {
      "cell_type": "code",
      "source": [
        "string = 'google.com'\n",
        "\n",
        "freq = {}\n",
        "\n",
        "for char in string:\n",
        "    if char in freq:\n",
        "        freq[char] += 1\n",
        "    else:\n",
        "        freq[char] = 1\n",
        "\n",
        "print(freq)"
      ],
      "metadata": {
        "colab": {
          "base_uri": "https://localhost:8080/"
        },
        "id": "BRE9SnNP-PBf",
        "outputId": "0afd1e41-a3d6-4a6c-8dcb-8a1ece66743b"
      },
      "execution_count": null,
      "outputs": [
        {
          "output_type": "stream",
          "name": "stdout",
          "text": [
            "{'g': 2, 'o': 3, 'l': 1, 'e': 1, '.': 1, 'c': 1, 'm': 1}\n"
          ]
        }
      ]
    },
    {
      "cell_type": "markdown",
      "source": [
        "2.Write a Python program to check if a given key already exists in a dictionary"
      ],
      "metadata": {
        "id": "RfcT9d0U-ym8"
      }
    },
    {
      "cell_type": "code",
      "source": [
        "\n",
        "my_dict = {'apple': 3, 'banana': 2, 'orange': 1}\n",
        "\n",
        "\n",
        "if 'apple' in my_dict:\n",
        "    print(\"Key 'apple' already exists in the dictionary\")\n",
        "else:\n",
        "    print(\"Key 'apple' does not exist in the dictionary\")\n",
        "    \n",
        "if 'grape' in my_dict:\n",
        "    print(\"Key 'grape' already exists in the dictionary\")\n",
        "else:\n",
        "    print(\"Key 'grape' does not exist in the dictionary\")"
      ],
      "metadata": {
        "colab": {
          "base_uri": "https://localhost:8080/"
        },
        "id": "z8i13DXO-8sb",
        "outputId": "64d1157c-40f7-4d8d-a761-9b0f0e68927d"
      },
      "execution_count": null,
      "outputs": [
        {
          "output_type": "stream",
          "name": "stdout",
          "text": [
            "Key 'apple' already exists in the dictionary\n",
            "Key 'grape' does not exist in the dictionary\n"
          ]
        }
      ]
    },
    {
      "cell_type": "markdown",
      "source": [
        "3. Write a Python program that accepts a sequence of comma-separated numbers from the user\n",
        "and generates a list and a tuple of those numbers. Sample data : 1, 5, 7, 23 Expected Output :\n",
        "List : ['1', ' 5', ' 7', ' 23'] Tuple : ('1', ' 5', ' 7', ' 23’)"
      ],
      "metadata": {
        "id": "LpuUQEUq_MrZ"
      }
    },
    {
      "cell_type": "code",
      "source": [
        "\n",
        "numbers = input(\"Enter comma-separated numbers: \")\n",
        "\n",
        "\n",
        "num_list = [int(n) for n in numbers.split(',')]\n",
        "\n",
        "\n",
        "str_list = [str(n) for n in num_list]\n",
        "\n",
        "\n",
        "str_tuple = tuple(str_list)\n",
        "\n",
        "\n",
        "print(\"List:\", str_list)\n",
        "print(\"Tuple:\", str_tuple)"
      ],
      "metadata": {
        "colab": {
          "base_uri": "https://localhost:8080/"
        },
        "id": "1J3_6EDD_Tsr",
        "outputId": "176d93d2-8a2a-4fe7-806c-22f6857d41be"
      },
      "execution_count": null,
      "outputs": [
        {
          "output_type": "stream",
          "name": "stdout",
          "text": [
            "Enter comma-separated numbers: 1,5,7,23\n",
            "List: ['1', '5', '7', '23']\n",
            "Tuple: ('1', '5', '7', '23')\n"
          ]
        }
      ]
    },
    {
      "cell_type": "markdown",
      "source": [
        "4.Write a Python program to calculate the number of days between two dates. Sample dates :\n",
        "(2014, 7, 2), (2014, 7, 11) Expected output : 9 days"
      ],
      "metadata": {
        "id": "EptmdsgtAUG3"
      }
    },
    {
      "cell_type": "code",
      "source": [
        "import datetime\n",
        "\n",
        "date1 = datetime.date(2014, 7, 2)\n",
        "date2 = datetime.date(2014, 7, 11)\n",
        "\n",
        "delta = date2 - date1\n",
        "\n",
        "print(delta.days)"
      ],
      "metadata": {
        "colab": {
          "base_uri": "https://localhost:8080/"
        },
        "id": "UUWeBaSCAiXs",
        "outputId": "ad0859dd-b871-4d91-c8e9-e4f362342f85"
      },
      "execution_count": null,
      "outputs": [
        {
          "output_type": "stream",
          "name": "stdout",
          "text": [
            "9\n"
          ]
        }
      ]
    },
    {
      "cell_type": "markdown",
      "source": [
        "5. Write a Python program to solve (x + y) * (x + y). Test Data : x = 4, y = 3 Expected Output : (4\n",
        "+ 3) ^ 2) = 49."
      ],
      "metadata": {
        "id": "Fr8CLyoIA9ns"
      }
    },
    {
      "cell_type": "code",
      "source": [
        "x = 4\n",
        "y = 3\n",
        "\n",
        "result = (x + y) ** 2\n",
        "\n",
        "print(f\"({x} + {y})^2 = {result}\")"
      ],
      "metadata": {
        "colab": {
          "base_uri": "https://localhost:8080/"
        },
        "id": "VivWy2DFBBqK",
        "outputId": "9348595b-0160-4b0e-ab71-c8655c605496"
      },
      "execution_count": null,
      "outputs": [
        {
          "output_type": "stream",
          "name": "stdout",
          "text": [
            "(4 + 3)^2 = 49\n"
          ]
        }
      ]
    },
    {
      "cell_type": "markdown",
      "source": [
        "6.Write a Python program to compute the future value of a specified principal amount, rate of\n",
        "interest, and number of years. Test Data : amt = 10000, int = 3.5, years = 7\n",
        "Expected Output : 12722"
      ],
      "metadata": {
        "id": "yI7QJo9NBY52"
      }
    },
    {
      "cell_type": "code",
      "source": [
        "amt = 10000  # principal amount\n",
        "interest_rate = 3.5  # rate of interest\n",
        "years = 7  # number of years\n",
        "\n",
        "# formula to calculate future value\n",
        "future_value = amt * ((1 + (interest_rate/100)) ** years)\n",
        "\n",
        "print(f\"Future value = {round(future_value, 2)}\")"
      ],
      "metadata": {
        "colab": {
          "base_uri": "https://localhost:8080/"
        },
        "id": "wmXv3ZIoBxKy",
        "outputId": "5c13116a-903d-47b8-b411-eb8049d6d46b"
      },
      "execution_count": null,
      "outputs": [
        {
          "output_type": "stream",
          "name": "stdout",
          "text": [
            "Future value = 12722.79\n"
          ]
        }
      ]
    },
    {
      "cell_type": "markdown",
      "source": [
        "7. Write a Python program that removes duplicate elements from a given array of numbers so\n",
        "that each element appears only once and returns the new length of the array. Sample Input:\n",
        "[0,0,1,1,2,2,3,3,4,4,4] Sample Output: The list of unique numbers: [0,1,2,3,4] length of the\n",
        "unique list : 5"
      ],
      "metadata": {
        "id": "hMa2UZv_B0ti"
      }
    },
    {
      "cell_type": "code",
      "source": [
        "nums = [0, 0, 1, 1, 2, 2, 3, 3, 4, 4, 4]\n",
        "\n",
        "# converting the list to set to remove duplicates, then back to list\n",
        "unique_nums = list(set(nums))\n",
        "\n",
        "print(\"The list of unique numbers:\", unique_nums)\n",
        "print(\"Length of the unique list:\", len(unique_nums))"
      ],
      "metadata": {
        "colab": {
          "base_uri": "https://localhost:8080/"
        },
        "id": "svaYa2B5B6H4",
        "outputId": "c225aaf9-e7c3-4a98-a0b7-47fcf8639825"
      },
      "execution_count": null,
      "outputs": [
        {
          "output_type": "stream",
          "name": "stdout",
          "text": [
            "The list of unique numbers: [0, 1, 2, 3, 4]\n",
            "Length of the unique list: 5\n"
          ]
        }
      ]
    },
    {
      "cell_type": "markdown",
      "source": [
        "8.Write a Python program to sort (ascending and descending) a dictionary by key value."
      ],
      "metadata": {
        "id": "g7LAEK9uCcPo"
      }
    },
    {
      "cell_type": "code",
      "source": [
        "# Example dictionary\n",
        "my_dict = {'c': 5, 'b': 3, 'a': 7, 'e': 1, 'd': 4}\n",
        "\n",
        "# Sort dictionary in ascending order by key\n",
        "sorted_dict_asc = dict(sorted(my_dict.items()))\n",
        "\n",
        "# Sort dictionary in descending order by key\n",
        "sorted_dict_desc = dict(sorted(my_dict.items(), reverse=True))\n",
        "\n",
        "# Print the sorted dictionaries\n",
        "print(\"Ascending order:\", sorted_dict_asc)\n",
        "print(\"Descending order:\", sorted_dict_desc)"
      ],
      "metadata": {
        "colab": {
          "base_uri": "https://localhost:8080/"
        },
        "id": "Tvybe4K2Cozs",
        "outputId": "51954bb5-3246-4c9a-c3c7-2066cd37399b"
      },
      "execution_count": null,
      "outputs": [
        {
          "output_type": "stream",
          "name": "stdout",
          "text": [
            "Ascending order: {'a': 7, 'b': 3, 'c': 5, 'd': 4, 'e': 1}\n",
            "Descending order: {'e': 1, 'd': 4, 'c': 5, 'b': 3, 'a': 7}\n"
          ]
        }
      ]
    },
    {
      "cell_type": "markdown",
      "source": [
        "9. Write a Python program to add key to a dictionary. Go to the editor Sample Dictionary : {0: 10,\n",
        "1: 20} Expected Result : {0: 10, 1: 20, 2: 30}"
      ],
      "metadata": {
        "id": "ey5cFkI1FSKK"
      }
    },
    {
      "cell_type": "code",
      "source": [
        "# Sample dictionary\n",
        "my_dict = {0: 10, 1: 20}\n",
        "\n",
        "# Add a key-value pair to the dictionary\n",
        "my_dict[2] = 30\n",
        "\n",
        "# Print the updated dictionary\n",
        "print(my_dict)"
      ],
      "metadata": {
        "colab": {
          "base_uri": "https://localhost:8080/"
        },
        "id": "6cQ1pyNGFTeH",
        "outputId": "3f7a8c03-ba73-4d53-8097-eb4756ec9458"
      },
      "execution_count": null,
      "outputs": [
        {
          "output_type": "stream",
          "name": "stdout",
          "text": [
            "{0: 10, 1: 20, 2: 30}\n"
          ]
        }
      ]
    },
    {
      "cell_type": "markdown",
      "source": [],
      "metadata": {
        "id": "_j7CT9InFuoS"
      }
    },
    {
      "cell_type": "markdown",
      "source": [
        "10. Write a Pandas program to create and display a DataFrame from a specified dictionary data\n",
        "which has the index labels. Sample Python dictionary data and list labels: exam_data = {'name':\n",
        "['Arif', 'Asir', 'Arik', 'Anis', 'Anil', 'Ashish', 'Anahi', 'Alia', 'Alvin', 'Asim'], 'score': [12.5, 9, 16.5,\n",
        "np.nan, 9, 20, 14.5, np.nan, 8, 19], 'attempts': [1, 3, 2, 3, 2, 3, 1, 1, 2, 1], 'qualify': ['yes', 'no',\n",
        "'yes', 'no', 'no', 'yes', 'yes', 'no', 'no', 'yes']} labels = ['a', 'b', 'c', 'd', 'e', 'f', 'g', 'h', 'i',’j’]"
      ],
      "metadata": {
        "id": "meAotHX_GHSO"
      }
    },
    {
      "cell_type": "code",
      "source": [
        "import pandas as pd\n",
        "import numpy as np\n",
        "\n",
        "# Define the dictionary data\n",
        "exam_data = {'name': ['Arif', 'Asir', 'Arik', 'Anis', 'Anil', 'Ashish', 'Anahi', 'Alia', 'Alvin', 'Asim'],\n",
        "             'score': [12.5, 9, 16.5, np.nan, 9, 20, 14.5, np.nan, 8, 19],\n",
        "             'attempts': [1, 3, 2, 3, 2, 3, 1, 1, 2, 1],\n",
        "             'qualify': ['yes', 'no', 'yes', 'no', 'no', 'yes', 'yes', 'no', 'no', 'yes']}\n",
        "\n",
        "\n",
        "labels = ['a', 'b', 'c', 'd', 'e', 'f', 'g', 'h', 'i', 'j']\n",
        "\n",
        "# Create a Pandas DataFrame from the dictionary data with specified index labels\n",
        "df = pd.DataFrame(exam_data, index=labels)\n",
        "\n",
        "# Display the DataFrame\n",
        "print(df)"
      ],
      "metadata": {
        "colab": {
          "base_uri": "https://localhost:8080/"
        },
        "id": "mcOnf3z7GNZs",
        "outputId": "f52104b1-447f-4cbd-f758-8e4be92d157d"
      },
      "execution_count": null,
      "outputs": [
        {
          "output_type": "stream",
          "name": "stdout",
          "text": [
            "     name  score  attempts qualify\n",
            "a    Arif   12.5         1     yes\n",
            "b    Asir    9.0         3      no\n",
            "c    Arik   16.5         2     yes\n",
            "d    Anis    NaN         3      no\n",
            "e    Anil    9.0         2      no\n",
            "f  Ashish   20.0         3     yes\n",
            "g   Anahi   14.5         1     yes\n",
            "h    Alia    NaN         1      no\n",
            "i   Alvin    8.0         2      no\n",
            "j    Asim   19.0         1     yes\n"
          ]
        }
      ]
    }
  ]
}